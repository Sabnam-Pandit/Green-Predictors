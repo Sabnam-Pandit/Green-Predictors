{
 "cells": [
  {
   "cell_type": "code",
   "execution_count": 1,
   "metadata": {},
   "outputs": [],
   "source": [
    "import pandas as pd\n",
    "import numpy as np\n",
    "import seaborn as sns\n",
    "import matplotlib.pyplot as plt\n",
    "from sklearn.model_selection import train_test_split, GridSearchCV\n",
    "from sklearn.pipeline import Pipeline\n",
    "from sklearn.preprocessing import StandardScaler, OneHotEncoder\n",
    "from sklearn.compose import ColumnTransformer\n",
    "from sklearn.ensemble import RandomForestRegressor, GradientBoostingRegressor, VotingRegressor\n",
    "from sklearn.metrics import mean_squared_error, r2_score\n",
    "from sklearn.feature_selection import SelectFromModel\n",
    "from sklearn.pipeline import make_pipeline\n",
    "from sklearn.decomposition import PCA\n",
    "import scipy.stats as stats"
   ]
  },
  {
   "cell_type": "code",
   "execution_count": null,
   "metadata": {},
   "outputs": [],
   "source": [
    "df_weather = pd.read_csv('/Users/annaywj/Desktop/github/weather_features_collapsed.csv')\n",
    "df_energy = pd.read_csv('/Users/annaywj/Desktop/energy_dataset.csv')\n",
    "\n",
    "# Convert date columns to datetime\n",
    "df_weather['dt_iso'] = pd.to_datetime(df_weather['dt_iso'], utc=True)\n",
    "df_energy['time'] = pd.to_datetime(df_energy['time'], utc=True)\n",
    "\n",
    "# Aggregate energy data if necessary\n",
    "energy_agg = df_energy.resample('D', on='time').agg({\n",
    "    'generation solar': 'sum',\n",
    "    'generation wind onshore': 'sum'\n",
    "}).reset_index()\n",
    "\n",
    "# Combine datasets\n",
    "combined_df = pd.merge(energy_agg, df_weather, left_on='time', right_on='dt_iso', how='inner')\n",
    "combined_df.drop(['dt_iso'], axis=1, inplace=True)"
   ]
  },
  {
   "cell_type": "code",
   "execution_count": null,
   "metadata": {},
   "outputs": [],
   "source": []
  }
 ],
 "metadata": {
  "kernelspec": {
   "display_name": "python_env",
   "language": "python",
   "name": "python3"
  },
  "language_info": {
   "codemirror_mode": {
    "name": "ipython",
    "version": 3
   },
   "file_extension": ".py",
   "mimetype": "text/x-python",
   "name": "python",
   "nbconvert_exporter": "python",
   "pygments_lexer": "ipython3",
   "version": "3.9.12"
  }
 },
 "nbformat": 4,
 "nbformat_minor": 2
}
